{
 "cells": [
  {
   "cell_type": "code",
   "execution_count": null,
   "id": "dfc4d2de",
   "metadata": {},
   "outputs": [],
   "source": [
    "str1 = ”str1”"
   ]
  },
  {
   "cell_type": "code",
   "execution_count": null,
   "id": "c7ee8a54",
   "metadata": {},
   "outputs": [],
   "source": [
    "str1 = str(\"str1\")\n",
    "print(str1)"
   ]
  },
  {
   "cell_type": "code",
   "execution_count": null,
   "id": "f30ee7bc",
   "metadata": {},
   "outputs": [],
   "source": [
    "print(type(10))"
   ]
  },
  {
   "cell_type": "code",
   "execution_count": null,
   "id": "7cc6fadb",
   "metadata": {},
   "outputs": [],
   "source": [
    "print(bool(0), bool(3.14159), bool(-3), bool(1.0+1j))"
   ]
  },
  {
   "cell_type": "code",
   "execution_count": null,
   "id": "acb385c1",
   "metadata": {},
   "outputs": [],
   "source": [
    "print(type([]) is list)"
   ]
  },
  {
   "cell_type": "code",
   "execution_count": null,
   "id": "38e957c5",
   "metadata": {},
   "outputs": [],
   "source": [
    "p, q, r = 10, 20 ,30\n",
    "print(p, q, r)"
   ]
  },
  {
   "cell_type": "code",
   "execution_count": null,
   "id": "19d65873",
   "metadata": {},
   "outputs": [],
   "source": [
    "a = [10, 20]\n",
    "b = a\n",
    "b += [30, 40]\n",
    "print(a)\n",
    "print(b)\n"
   ]
  },
  {
   "cell_type": "code",
   "execution_count": null,
   "id": "b70c3fba",
   "metadata": {},
   "outputs": [],
   "source": [
    "print(2%6)"
   ]
  },
  {
   "cell_type": "code",
   "execution_count": null,
   "id": "d856c590",
   "metadata": {},
   "outputs": [],
   "source": [
    "print(bool(0), bool(3.14159), bool(-3), bool(1.0+1j))"
   ]
  },
  {
   "cell_type": "code",
   "execution_count": null,
   "id": "f3a54e3f",
   "metadata": {},
   "outputs": [],
   "source": [
    "print(-18 // 4) "
   ]
  },
  {
   "cell_type": "code",
   "execution_count": null,
   "id": "8debbcb0",
   "metadata": {},
   "outputs": [],
   "source": [
    "print(2 ** 3 ** 2) "
   ]
  },
  {
   "cell_type": "code",
   "execution_count": null,
   "id": "32a276fc",
   "metadata": {},
   "outputs": [],
   "source": [
    "a = 4\n",
    "b = 11\n",
    "print(a | b)\n",
    "print(a >> 2)\n"
   ]
  },
  {
   "cell_type": "code",
   "execution_count": null,
   "id": "4184533d",
   "metadata": {},
   "outputs": [],
   "source": [
    "print(36 / 4)"
   ]
  },
  {
   "cell_type": "code",
   "execution_count": null,
   "id": "bb7345d3",
   "metadata": {},
   "outputs": [],
   "source": [
    "y = 10\n",
    "x = y += 2\n",
    "print(x)\n"
   ]
  },
  {
   "cell_type": "code",
   "execution_count": null,
   "id": "236413d5",
   "metadata": {},
   "outputs": [],
   "source": [
    "print(2 * 3 ** 3 * 4)"
   ]
  },
  {
   "cell_type": "code",
   "execution_count": null,
   "id": "fd33bddf",
   "metadata": {},
   "outputs": [],
   "source": [
    "print(10 - 4 * 2) "
   ]
  },
  {
   "cell_type": "code",
   "execution_count": null,
   "id": "087b9163",
   "metadata": {},
   "outputs": [],
   "source": [
    "x = 6\n",
    "y = 2\n",
    "print(x ** y)\n",
    "print(x // y)\n"
   ]
  },
  {
   "cell_type": "code",
   "execution_count": null,
   "id": "8005773a",
   "metadata": {},
   "outputs": [],
   "source": [
    "a, b = 12, 5\n",
    "if a + b:\n",
    "    print('True')\n",
    "else:\n",
    "  print('False')\n"
   ]
  },
  {
   "cell_type": "code",
   "execution_count": null,
   "id": "5570d556",
   "metadata": {},
   "outputs": [],
   "source": [
    "x = 0\n",
    "a = 0\n",
    "b = -5\n",
    "if a > 0:\n",
    "    if b < 0: \n",
    "        x = x + 5 \n",
    "    elif a > 5:\n",
    "        x = x + 4\n",
    "    else:\n",
    "        x = x + 3\n",
    "else:\n",
    "    x = x + 2\n",
    "print(x)\n"
   ]
  },
  {
   "cell_type": "code",
   "execution_count": null,
   "id": "06fde690",
   "metadata": {},
   "outputs": [],
   "source": [
    "x = 0\n",
    "a = 5\n",
    "b = 5\n",
    "if a > 0:\n",
    "    if b < 0: \n",
    "        x = x + 5 \n",
    "    elif a > 5:\n",
    "        x = x + 4\n",
    "    else:\n",
    "        x = x + 3\n",
    "else:\n",
    "    x = x + 2\n",
    "print(x)\n"
   ]
  },
  {
   "cell_type": "code",
   "execution_count": null,
   "id": "0c080a09",
   "metadata": {},
   "outputs": [],
   "source": [
    "a= float(input(\"Enter marks : \"))\n",
    "if a<25:\n",
    "    print(\"F\")\n",
    "elif a<45:\n",
    "    print(\"E\")\n",
    "elif a<50:\n",
    "    print(\"D\")\n",
    "elif a<60:\n",
    "    print(\"C\")\n",
    "elif a<80:\n",
    "    print(\"B\")\n",
    "else:\n",
    "    print(\"A\")\n",
    "    \n"
   ]
  },
  {
   "cell_type": "code",
   "execution_count": null,
   "id": "f713fd99",
   "metadata": {},
   "outputs": [],
   "source": [
    "marks = float(input(\"Enter your marks: \"))\n",
    "\n",
    "# Determine the grade based on the marks\n",
    "if marks < 25:\n",
    "    grade = 'F'\n",
    "elif marks < 45:\n",
    "    grade = 'E'\n",
    "elif marks < 50:\n",
    "    grade = 'D'\n",
    "elif marks < 60:\n",
    "    grade = 'C'\n",
    "elif marks < 80:\n",
    "    grade = 'B'\n",
    "else:\n",
    "    grade = 'A'\n",
    "\n",
    "# Print the corresponding grade\n",
    "print(\"Your grade is:\", grade)"
   ]
  },
  {
   "cell_type": "code",
   "execution_count": null,
   "id": "7069ad7a",
   "metadata": {},
   "outputs": [],
   "source": [
    "a=float(input(\"Enter the amount : \"))\n",
    "b=a/10\n",
    "print(\"Total cost for user :\",b)\n"
   ]
  },
  {
   "cell_type": "code",
   "execution_count": null,
   "id": "643fa12f",
   "metadata": {},
   "outputs": [],
   "source": [
    "quantity = int(input(\"Enter the quantity of items purchased: \"))\n",
    "unit_cost = 100  \n",
    "total_cost = quantity * unit_cost\n",
    "\n",
    "if total_cost > 1000:\n",
    "    discount = 0.1 * total_cost\n",
    "    total_cost -= discount\n",
    "\n",
    "print(\"Total cost:\", total_cost)"
   ]
  },
  {
   "cell_type": "code",
   "execution_count": null,
   "id": "6fbfc82c",
   "metadata": {},
   "outputs": [],
   "source": [
    "a = int(input(\"INPUT : \"))\n",
    "absolute_value = abs(a)\n",
    "print(\"OUTPUT :\" ,absolute_value)"
   ]
  },
  {
   "cell_type": "code",
   "execution_count": null,
   "id": "76ae32ee",
   "metadata": {},
   "outputs": [],
   "source": [
    "number = float(input(\"Enter a number: \"))\n",
    "\n",
    "# Calculate the absolute value of the number\n",
    "absolute_value = abs(number)\n",
    "\n",
    "# Print the absolute value\n",
    "print(\"The absolute value of\", number, \"is\", absolute_value)"
   ]
  },
  {
   "cell_type": "code",
   "execution_count": null,
   "id": "5ec4b415",
   "metadata": {},
   "outputs": [],
   "source": [
    "a = input(\" String: \")\n",
    "letters = 0\n",
    "digits = 0\n",
    "for x in a:\n",
    "    if x.isalpha():\n",
    "            letters += 1\n",
    "    elif x.isdigit():\n",
    "            digits += 1\n",
    "print(\"Letters:\", letters)\n",
    "print(\"Digits:\",  digits)"
   ]
  },
  {
   "cell_type": "code",
   "execution_count": null,
   "id": "65b98332",
   "metadata": {},
   "outputs": [],
   "source": [
    "string = input(\"Enter a string: \")\n",
    "\n",
    "# Initialize counters for letters and digits\n",
    "num_letters = 0\n",
    "num_digits = 0\n",
    "\n",
    "# Iterate through each character in the string\n",
    "for char in string:\n",
    "    # Check if the character is a letter\n",
    "    if char.isalpha():\n",
    "        num_letters += 1\n",
    "    # Check if the character is a digit\n",
    "    elif char.isdigit():\n",
    "        num_digits += 1\n",
    "\n",
    "# Print the counts of letters and digits\n",
    "print(\"Letters:\", num_letters)\n",
    "print(\"Digits:\", num_digits)"
   ]
  },
  {
   "cell_type": "code",
   "execution_count": null,
   "id": "ba23e30a",
   "metadata": {},
   "outputs": [],
   "source": [
    "alphabet= input(\"Enter a alphbet : \")\n",
    "alphabet = alphabet.lower()\n",
    "if len(alphabet) == 1 and  alphabet.isalpha():\n",
    "    \n",
    "        if alphabet in ['a','e','i','o','u']:\n",
    "            print(alphabet,\"Alphabet is a vowel \")\n",
    "        else:\n",
    "            print(alphabet,\"alphabet is a consonant \")\n",
    "else:\n",
    "    print(\" Single letter of the alphabet.\")\n",
    "    "
   ]
  },
  {
   "cell_type": "code",
   "execution_count": null,
   "id": "77e6b6c5",
   "metadata": {},
   "outputs": [],
   "source": [
    "# Ask the user to input a letter of the alphabet\n",
    "letter = input(\"Input a letter of the alphabet: \")\n",
    "\n",
    "\n",
    "letter = letter.lower()\n",
    "\n",
    "if len(letter) == 1 and letter.isalpha():\n",
    "   \n",
    "    if letter in ['a', 'e', 'i', 'o', 'u']:\n",
    "        print(letter, \"is a vowel.\")\n",
    "    else:\n",
    "        print(letter, \"is a consonant.\")\n",
    "else:\n",
    "    print(\"Please input a single letter of the alphabet.\")\n"
   ]
  },
  {
   "cell_type": "code",
   "execution_count": null,
   "id": "720ffe20",
   "metadata": {},
   "outputs": [],
   "source": [
    "x = float(input(\"x: \"))\n",
    "y = float(input(\"y: \"))\n",
    "z = float(input(\"z: \"))\n",
    "\n",
    "if x + y > z and x + z > y and y + z > x:\n",
    "   \n",
    "    if x == y == z:\n",
    "        print(\"Equilateral triangle\")\n",
    "   \n",
    "    elif x == y or x == z or y == z:\n",
    "        print(\"Isosceles triangle\")\n",
    "    \n",
    "    else:\n",
    "        print(\"Scalene triangle\")\n",
    "else:\n",
    "    print(\"The given lengths do not form a valid triangle.\")"
   ]
  },
  {
   "cell_type": "code",
   "execution_count": null,
   "id": "c8f8a00b",
   "metadata": {},
   "outputs": [],
   "source": [
    "a = float(input(\"Enter 1st number: \"))\n",
    "b = float(input(\"Enter 2nd number: \"))\n",
    "c = float(input(\"Enter 3rd number: \"))\n",
    "\n",
    "if a >= b and a >= c:\n",
    "    largest = a\n",
    "elif b >= a and b >= c:\n",
    "    largest = b\n",
    "else:\n",
    "    largest = c\n",
    "\n",
    "print(\"The largest number is:\", largest)\n"
   ]
  },
  {
   "cell_type": "code",
   "execution_count": null,
   "id": "6cbf298b",
   "metadata": {},
   "outputs": [],
   "source": [
    "x = 0\n",
    "while (x < 100):\n",
    "  x+=2\n",
    "print(x)\n"
   ]
  },
  {
   "cell_type": "code",
   "execution_count": null,
   "id": "4a8a3685",
   "metadata": {},
   "outputs": [],
   "source": [
    "a = 'geeksforgeeks'\n",
    "i = 0\n",
    "  \n",
    "while i < len(a): \n",
    "    i += 1\n",
    "    pass\n",
    "    \n",
    "print('Value of i :', i) "
   ]
  },
  {
   "cell_type": "code",
   "execution_count": null,
   "id": "c7047782",
   "metadata": {},
   "outputs": [],
   "source": [
    "count = 0\n",
    "while (count <= 3): \n",
    "    count = count + 1\n",
    "    print(\"Hello Geek\")"
   ]
  },
  {
   "cell_type": "code",
   "execution_count": null,
   "id": "55edd482",
   "metadata": {},
   "outputs": [],
   "source": [
    "i = 0\n",
    "a = 'geeksforgeeks'\n",
    "  \n",
    "while i < len(a): \n",
    "    if a[i] == 'e' or a[i] == 's': \n",
    "        i =i+ 1\n",
    "        continue\n",
    "    else:     \n",
    "        print('Current Letter :', a[i]) \n",
    "    i += 1"
   ]
  },
  {
   "cell_type": "code",
   "execution_count": null,
   "id": "77e89744",
   "metadata": {},
   "outputs": [],
   "source": [
    "i = 0\n",
    "while i < 4: \n",
    "    i += 1\n",
    "    print(i) \n",
    "else:  # Executed because no break in for \n",
    "    print(\"No Break\\n\")"
   ]
  },
  {
   "cell_type": "code",
   "execution_count": null,
   "id": "4bbb409f",
   "metadata": {},
   "outputs": [],
   "source": [
    "i = 0\n",
    "while i < 4: \n",
    "    i += 1\n",
    "    print(i) \n",
    "    break\n",
    "else:  # Not executed as there is a break \n",
    "    print(\"No Break\") "
   ]
  },
  {
   "cell_type": "code",
   "execution_count": null,
   "id": "38494d54",
   "metadata": {},
   "outputs": [],
   "source": [
    "a = int(input('Enter a number (-1 to quit): ')) \n",
    "\n",
    "while a != -1: \n",
    "\ta = int(input('Enter a number (-1 to quit): '))\n"
   ]
  },
  {
   "cell_type": "code",
   "execution_count": 2,
   "id": "ec740bd3",
   "metadata": {},
   "outputs": [
    {
     "name": "stdout",
     "output_type": "stream",
     "text": [
      "Enter a number : 67\n",
      "Enter a number : 78\n",
      "Sum of numbers has exceeded 100. Exiting loop.\n"
     ]
    }
   ],
   "source": [
    "i=0\n",
    "while i<100:\n",
    "    a=float(input(\"Enter a number : \"))\n",
    "    i +=a \n",
    "print(\"Sum of numbers has exceeded 100. Exiting loop.\")"
   ]
  },
  {
   "cell_type": "code",
   "execution_count": 1,
   "id": "ec6c4bcc",
   "metadata": {},
   "outputs": [
    {
     "name": "stdout",
     "output_type": "stream",
     "text": [
      "Enter a number: 66\n",
      "Enter a number: 88\n",
      "Sum of numbers has exceeded 100. Exiting loop.\n"
     ]
    }
   ],
   "source": [
    "sum_of_numbers = 0\n",
    "\n",
    "while sum_of_numbers < 100:\n",
    "    num = float(input(\"Enter a number: \"))\n",
    "    sum_of_numbers += num\n",
    "\n",
    "print(\"Sum of numbers has exceeded 100. Exiting loop.\")\n"
   ]
  },
  {
   "cell_type": "code",
   "execution_count": 2,
   "id": "4175130c",
   "metadata": {},
   "outputs": [
    {
     "name": "stdout",
     "output_type": "stream",
     "text": [
      "Enter an integer: 1\n",
      "Enter an integer: 3\n",
      "Enter an integer: 7\n",
      "Enter an integer: 8\n",
      "Enter an integer: 9\n",
      "Enter an integer: 8\n",
      "Enter an integer: 7\n",
      "Enter an integer: 7\n",
      "Enter an integer: 8\n",
      "Enter an integer: 4\n",
      "The average of the 10 integers is: 6.2\n"
     ]
    }
   ],
   "source": [
    "total = 0\n",
    "for i in range(10):\n",
    "    num = int(input(\"Enter an integer: \"))\n",
    "    total += num  \n",
    "average = total / 10\n",
    "print(\"The average of the 10 integers is:\", average)\n"
   ]
  },
  {
   "cell_type": "code",
   "execution_count": 3,
   "id": "d88ddb14",
   "metadata": {},
   "outputs": [
    {
     "name": "stdout",
     "output_type": "stream",
     "text": [
      "*\n",
      "**\n",
      "***\n",
      "****\n"
     ]
    }
   ],
   "source": [
    "\n",
    "for i in range(1, 5):\n",
    "    print('*' * i)\n"
   ]
  },
  {
   "cell_type": "code",
   "execution_count": 5,
   "id": "b87ccc89",
   "metadata": {},
   "outputs": [
    {
     "name": "stdout",
     "output_type": "stream",
     "text": [
      "  *\n",
      " ***\n",
      "*****\n",
      " ***\n",
      "  *\n"
     ]
    }
   ],
   "source": [
    "\n",
    "for i in range(1, 4):\n",
    "    print(' ' * (3 - i) + '*' * (2 * i - 1))\n",
    "for i in range(2, 0, -1):\n",
    "    print(' ' * (3 - i) + '*' * (2 * i - 1))\n"
   ]
  },
  {
   "cell_type": "code",
   "execution_count": 12,
   "id": "858fa036",
   "metadata": {},
   "outputs": [
    {
     "name": "stdout",
     "output_type": "stream",
     "text": [
      "1010101\n",
      " 10101\n",
      "  101\n",
      "   1\n"
     ]
    }
   ],
   "source": [
    "\n",
    "for i in range(4):\n",
    "    print(' ' * i + '10' * (4 - i-1)+ '1' )\n"
   ]
  },
  {
   "cell_type": "code",
   "execution_count": 6,
   "id": "c4c1122c",
   "metadata": {},
   "outputs": [
    {
     "name": "stdout",
     "output_type": "stream",
     "text": [
      "1010001\n",
      " 101001\n",
      "  10101\n",
      "   1011\n"
     ]
    }
   ],
   "source": [
    "for i in range(4):\n",
    "    print(' ' * i + '101' + '0' * (4 - i - 1) + '1')\n"
   ]
  },
  {
   "cell_type": "code",
   "execution_count": 13,
   "id": "783ead84",
   "metadata": {},
   "outputs": [
    {
     "name": "stdout",
     "output_type": "stream",
     "text": [
      "2\n",
      "4\n",
      "6\n",
      "8\n",
      "10\n",
      "12\n",
      "14\n",
      "16\n",
      "18\n",
      "20\n"
     ]
    }
   ],
   "source": [
    "def print_multiplication_table(num):\n",
    "    for i in range(1, 11):\n",
    "        print(num * i)\n",
    "num = 2\n",
    "print_multiplication_table(num)\n"
   ]
  },
  {
   "cell_type": "code",
   "execution_count": 14,
   "id": "20e0fcad",
   "metadata": {},
   "outputs": [
    {
     "name": "stdout",
     "output_type": "stream",
     "text": [
      "15\n",
      "55\n",
      "75\n",
      "150\n"
     ]
    }
   ],
   "source": [
    "list1 = [12, 15, 32, 42, 55, 75, 122, 132, 150, 180, 200]\n",
    "\n",
    "for num in list1:\n",
    "    if num > 150:\n",
    "        break\n",
    "    if num % 5 == 0:\n",
    "        print(num)\n"
   ]
  },
  {
   "cell_type": "code",
   "execution_count": 15,
   "id": "525c397e",
   "metadata": {},
   "outputs": [
    {
     "name": "stdout",
     "output_type": "stream",
     "text": [
      "-10\n",
      "-9\n",
      "-8\n",
      "-7\n",
      "-6\n",
      "-5\n",
      "-4\n",
      "-3\n",
      "-2\n",
      "-1\n"
     ]
    }
   ],
   "source": [
    "for i in range(-10, 0):\n",
    "    print(i)\n"
   ]
  },
  {
   "cell_type": "code",
   "execution_count": 17,
   "id": "639f9f37",
   "metadata": {},
   "outputs": [
    {
     "name": "stdout",
     "output_type": "stream",
     "text": [
      "0\n",
      "1\n",
      "2\n",
      "3\n",
      "4\n",
      "Done!\n"
     ]
    }
   ],
   "source": [
    "for i in range(5):\n",
    "    print(i)\n",
    "\n",
    "print(\"Done!\")\n"
   ]
  },
  {
   "cell_type": "code",
   "execution_count": 18,
   "id": "3de042fa",
   "metadata": {},
   "outputs": [
    {
     "name": "stdout",
     "output_type": "stream",
     "text": [
      "5 4 3 2 1 \n",
      "4 3 2 1 \n",
      "3 2 1 \n",
      "2 1 \n",
      "1 \n"
     ]
    }
   ],
   "source": [
    "for i in range(5, 0, -1):  \n",
    "    for j in range(i, 0, -1):  \n",
    "        print(j, end=\" \")\n",
    "    print()  \n"
   ]
  },
  {
   "cell_type": "code",
   "execution_count": null,
   "id": "d45caea2",
   "metadata": {},
   "outputs": [],
   "source": []
  }
 ],
 "metadata": {
  "kernelspec": {
   "display_name": "Python 3 (ipykernel)",
   "language": "python",
   "name": "python3"
  },
  "language_info": {
   "codemirror_mode": {
    "name": "ipython",
    "version": 3
   },
   "file_extension": ".py",
   "mimetype": "text/x-python",
   "name": "python",
   "nbconvert_exporter": "python",
   "pygments_lexer": "ipython3",
   "version": "3.11.5"
  }
 },
 "nbformat": 4,
 "nbformat_minor": 5
}
